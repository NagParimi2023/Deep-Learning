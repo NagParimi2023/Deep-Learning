{
  "nbformat": 4,
  "nbformat_minor": 0,
  "metadata": {
    "colab": {
      "private_outputs": true,
      "provenance": []
    },
    "kernelspec": {
      "name": "python3",
      "display_name": "Python 3"
    },
    "language_info": {
      "name": "python"
    }
  },
  "cells": [
    {
      "cell_type": "markdown",
      "source": [
        "Program for Regression problem\n",
        "\n",
        "1. Loss Function : MSE/ RMSE\n",
        "2. Output layer : Relu\n",
        "3. Optimizer : Stocastic Greaident descent\n"
      ],
      "metadata": {
        "id": "4RwUZOj9YVk0"
      }
    },
    {
      "cell_type": "markdown",
      "source": [
        "1.import layers"
      ],
      "metadata": {
        "id": "HVzxxk7KZXHM"
      }
    },
    {
      "cell_type": "code",
      "execution_count": null,
      "metadata": {
        "id": "Is8KQ63RYVDa"
      },
      "outputs": [],
      "source": [
        "import numpy as np\n",
        "from sklearn.datasets import make_regression\n",
        "from sklearn.model_selection import train_test_split\n",
        "from tensorflow.keras.models import Sequential\n",
        "from tensorflow.keras.layers  import Dense\n",
        "from tensorflow.keras.optimizers import Adam\n",
        "from tensorflow.keras.utils import plot_model\n"
      ]
    },
    {
      "cell_type": "code",
      "source": [
        "x,y = make_regression(n_samples=100000,n_features=10,noise=0.1,random_state=42)"
      ],
      "metadata": {
        "id": "C5UkVXQAZajY"
      },
      "execution_count": null,
      "outputs": []
    },
    {
      "cell_type": "code",
      "source": [
        "X_train,X_test, y_train, y_test = train_test_split(x,y,test_size=0.2,random_state=42)"
      ],
      "metadata": {
        "id": "CMNxkCcsZr8B"
      },
      "execution_count": null,
      "outputs": []
    },
    {
      "cell_type": "markdown",
      "source": [
        "2. Model Building\n"
      ],
      "metadata": {
        "id": "y8K8iUuZZ8lv"
      }
    },
    {
      "cell_type": "code",
      "source": [
        "model  = Sequential([\n",
        "        Dense(128,input_shape=(10,),activation='relu'),\n",
        "        Dense(64,activation='relu'),\n",
        "        Dense(32,activation='relu'),\n",
        "        Dense(32,activation='relu'),\n",
        "        Dense(1)\n",
        "])"
      ],
      "metadata": {
        "id": "auhwGyy7Z8T9"
      },
      "execution_count": null,
      "outputs": []
    },
    {
      "cell_type": "code",
      "source": [
        "print(model.summary())"
      ],
      "metadata": {
        "id": "CyV9NIjIaoLe"
      },
      "execution_count": null,
      "outputs": []
    },
    {
      "cell_type": "markdown",
      "source": [
        "3. compile the model\n"
      ],
      "metadata": {
        "id": "5mNMosNVbGxR"
      }
    },
    {
      "cell_type": "code",
      "source": [
        "model.compile(optimizer='adam', loss=\"mean_squared_error\")"
      ],
      "metadata": {
        "id": "766FoCgxbEHv"
      },
      "execution_count": null,
      "outputs": []
    },
    {
      "cell_type": "code",
      "source": [
        "history = model.fit(X_train,y_train,epochs=50,batch_size=32,validation_split=0.2,verbose=1)"
      ],
      "metadata": {
        "id": "QuTXNCykbXet"
      },
      "execution_count": null,
      "outputs": []
    },
    {
      "cell_type": "markdown",
      "source": [],
      "metadata": {
        "id": "-QuT1ZbtbXQC"
      }
    },
    {
      "cell_type": "code",
      "source": [
        "plot_model(model,to_file='regression.png',show_shapes=True,show_layer_names=True)"
      ],
      "metadata": {
        "id": "InhnVQcgc6dT"
      },
      "execution_count": null,
      "outputs": []
    },
    {
      "cell_type": "code",
      "source": [
        "loss = model.evaluate(X_test,y_test,verbose=0)"
      ],
      "metadata": {
        "id": "uS6WzBHHbiGe"
      },
      "execution_count": null,
      "outputs": []
    },
    {
      "cell_type": "markdown",
      "source": [],
      "metadata": {
        "id": "j_YL6rKGfvcv"
      }
    },
    {
      "cell_type": "code",
      "source": [
        "print(f'loss:{loss}')"
      ],
      "metadata": {
        "id": "DtVygiQTeiiz"
      },
      "execution_count": null,
      "outputs": []
    },
    {
      "cell_type": "code",
      "source": [
        "preditcion =  model.predict(X_test)\n",
        "print('Predicted Values:')\n",
        "for i in range(5):\n",
        "  print(f\"Predicted : {preditcion[i][0]},'actual: {y_test[i]}\")"
      ],
      "metadata": {
        "id": "HRlWm5QNesLQ"
      },
      "execution_count": null,
      "outputs": []
    },
    {
      "cell_type": "code",
      "source": [
        "model2  = Sequential([\n",
        "        Dense(128,input_shape=(10,),activation='relu'),\n",
        "        Dense(64,activation='tanh'),\n",
        "        Dense(32,activation='tanh'),\n",
        "        Dense(32,activation='relu'),\n",
        "        Dense(1)\n",
        "])\n",
        "model2.compile(optimizer='adam', loss=\"mean_squared_error\")"
      ],
      "metadata": {
        "id": "3LRTmQkSfBGA"
      },
      "execution_count": null,
      "outputs": []
    },
    {
      "cell_type": "code",
      "source": [
        "history = model2.fit(X_train,y_train,epochs=50,batch_size=32,validation_split=0.2,verbose=1)"
      ],
      "metadata": {
        "id": "0gmlZdl8f8Ej"
      },
      "execution_count": null,
      "outputs": []
    },
    {
      "cell_type": "code",
      "source": [
        "loss = model2.evaluate(X_test,y_test,verbose=0)\n",
        "print(f'loss: {loss}')"
      ],
      "metadata": {
        "id": "EhWmsT3JilHa"
      },
      "execution_count": null,
      "outputs": []
    },
    {
      "cell_type": "code",
      "source": [
        "preditcion =  model2.predict(X_test)\n",
        "print('Predicted Values:')\n",
        "for i in range(5):\n",
        "  print(f\"Predicted : {preditcion[i][0]},'actual: {y_test[i]}\")"
      ],
      "metadata": {
        "id": "onf3ayBGhp17"
      },
      "execution_count": null,
      "outputs": []
    }
  ]
}