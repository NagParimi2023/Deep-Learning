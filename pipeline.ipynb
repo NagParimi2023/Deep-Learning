{
  "nbformat": 4,
  "nbformat_minor": 0,
  "metadata": {
    "colab": {
      "provenance": []
    },
    "kernelspec": {
      "name": "python3",
      "display_name": "Python 3"
    },
    "language_info": {
      "name": "python"
    }
  },
  "cells": [
    {
      "cell_type": "code",
      "source": [
        "from zenml import pipeline, step\n",
        "import sys\n",
        "\n",
        "\n",
        "@step\n",
        "def step_1() -> str:\n",
        "    return \"hi\"\n",
        "\n",
        "@step\n",
        "def step_2(input_one: str, input_two: str):\n",
        "    combined_str = input_one + \"  \" + input_two\n",
        "    print(combined_str)\n",
        "\n",
        "@pipeline\n",
        "def my_pipeline():\n",
        "    output_step1 = step_1()\n",
        "    step_2(input_one='Karna', input_two=output_step1)\n",
        "\n",
        "\n",
        "\n",
        "\n",
        "my_pipeline()\n",
        "\n",
        "'''\n",
        "pip install zenml\n",
        "zenml init\n",
        "after that we will run the code\n",
        "then to open the zenml dashboard we will use the command is\n",
        "zenml up --blocking\n",
        "'''"
      ],
      "metadata": {
        "id": "JUmv7ARvXngW"
      },
      "execution_count": null,
      "outputs": []
    }
  ]
}