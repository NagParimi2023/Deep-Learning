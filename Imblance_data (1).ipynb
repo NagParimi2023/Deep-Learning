{
  "nbformat": 4,
  "nbformat_minor": 0,
  "metadata": {
    "colab": {
      "private_outputs": true,
      "provenance": []
    },
    "kernelspec": {
      "name": "python3",
      "display_name": "Python 3"
    },
    "language_info": {
      "name": "python"
    }
  },
  "cells": [
    {
      "cell_type": "code",
      "execution_count": null,
      "metadata": {
        "id": "1Hn9ixiLd70h"
      },
      "outputs": [],
      "source": [
        "# Random over sampling\n",
        "# Incresing miniroty class , this is introduce the duplicate data.\n",
        "\n",
        "from collections import Counter\n",
        "from sklearn.datasets import make_classification\n",
        "from imblearn.over_sampling import RandomOverSampler"
      ]
    },
    {
      "cell_type": "code",
      "source": [
        "X,y = make_classification(n_samples =1000, weights=[0.99],flip_y=0)\n",
        "print(Counter(y))"
      ],
      "metadata": {
        "id": "htTXciI8efXC"
      },
      "execution_count": null,
      "outputs": []
    },
    {
      "cell_type": "code",
      "source": [
        "over_sampling = RandomOverSampler(sampling_strategy='minority')"
      ],
      "metadata": {
        "id": "WAVG1WJee3DW"
      },
      "execution_count": null,
      "outputs": []
    },
    {
      "cell_type": "code",
      "source": [
        "X_over, y_over  = over_sampling.fit_resample(X,y)"
      ],
      "metadata": {
        "id": "pFtOO7-aevLh"
      },
      "execution_count": null,
      "outputs": []
    },
    {
      "cell_type": "code",
      "source": [
        "print(Counter(y_over))"
      ],
      "metadata": {
        "id": "YI0oFUVafKmq"
      },
      "execution_count": null,
      "outputs": []
    },
    {
      "cell_type": "code",
      "source": [
        "from  sklearn.tree import DecisionTreeClassifier\n",
        "from sklearn.model_selection import train_test_split"
      ],
      "metadata": {
        "id": "83ciJ5AefaB8"
      },
      "execution_count": null,
      "outputs": []
    },
    {
      "cell_type": "code",
      "source": [
        "X_train,X_test, y_train, y_test = train_test_split(X,y,test_size =0.2,random_state=42)"
      ],
      "metadata": {
        "id": "zrF0yn4Yftnk"
      },
      "execution_count": null,
      "outputs": []
    },
    {
      "cell_type": "code",
      "source": [
        "model = DecisionTreeClassifier()\n",
        "model.fit(X_train,y_train)"
      ],
      "metadata": {
        "id": "08RL-C7ngQH-"
      },
      "execution_count": null,
      "outputs": []
    },
    {
      "cell_type": "code",
      "source": [
        "y_pred = model.predict(X_test)"
      ],
      "metadata": {
        "id": "mUtqk64xgpS9"
      },
      "execution_count": null,
      "outputs": []
    },
    {
      "cell_type": "code",
      "source": [
        "from sklearn.metrics import accuracy_score\n",
        "score = accuracy_score(y_test,y_pred)"
      ],
      "metadata": {
        "id": "Rbcgk4SbhCxR"
      },
      "execution_count": null,
      "outputs": []
    },
    {
      "cell_type": "code",
      "source": [
        "print(score)"
      ],
      "metadata": {
        "id": "ppDH9LwihP9t"
      },
      "execution_count": null,
      "outputs": []
    },
    {
      "cell_type": "code",
      "source": [
        "from sklearn.metrics import classification_report\n",
        "report = classification_report(y_test,y_pred)"
      ],
      "metadata": {
        "id": "qoNtLO8zgvhZ"
      },
      "execution_count": null,
      "outputs": []
    },
    {
      "cell_type": "code",
      "source": [
        "from sklearn.metrics import confusion_matrix\n",
        "confusion = confusion_matrix(y_test,y_pred)"
      ],
      "metadata": {
        "id": "VVG3mfpVhVUI"
      },
      "execution_count": null,
      "outputs": []
    },
    {
      "cell_type": "code",
      "source": [
        "print(confusion)"
      ],
      "metadata": {
        "id": "YyV8Pn7OhfPL"
      },
      "execution_count": null,
      "outputs": []
    },
    {
      "cell_type": "code",
      "source": [
        "print(report)"
      ],
      "metadata": {
        "id": "5HbuVOUAg9Nf"
      },
      "execution_count": null,
      "outputs": []
    },
    {
      "cell_type": "code",
      "source": [
        "X_train,X_test, y_train, y_test = train_test_split(X_over, y_over,test_size =0.2,random_state=42)"
      ],
      "metadata": {
        "id": "RdpnlUfjhn3B"
      },
      "execution_count": null,
      "outputs": []
    },
    {
      "cell_type": "code",
      "source": [
        "model = DecisionTreeClassifier()\n",
        "model.fit(X_train,y_train)"
      ],
      "metadata": {
        "id": "kqkt-GJFhuHx"
      },
      "execution_count": null,
      "outputs": []
    },
    {
      "cell_type": "code",
      "source": [
        "y_pred = model.predict(X_test)"
      ],
      "metadata": {
        "id": "mKBR9ttfhwy-"
      },
      "execution_count": null,
      "outputs": []
    },
    {
      "cell_type": "code",
      "source": [
        "from sklearn.metrics import classification_report\n",
        "report = classification_report(y_test,y_pred)\n",
        "print(report)"
      ],
      "metadata": {
        "id": "GuFPVfjNhz2I"
      },
      "execution_count": null,
      "outputs": []
    },
    {
      "cell_type": "code",
      "source": [
        "from sklearn.metrics import confusion_matrix\n",
        "confusion = confusion_matrix(y_test,y_pred)\n",
        "print(confusion)"
      ],
      "metadata": {
        "id": "BChPRjbXh7no"
      },
      "execution_count": null,
      "outputs": []
    },
    {
      "cell_type": "code",
      "source": [
        "from sklearn.metrics import accuracy_score\n",
        "score = accuracy_score(y_test,y_pred)\n",
        "print('Accuracy :',score)"
      ],
      "metadata": {
        "id": "vxAZzPVNiEJX"
      },
      "execution_count": null,
      "outputs": []
    },
    {
      "cell_type": "markdown",
      "source": [
        "under_sampling"
      ],
      "metadata": {
        "id": "j-TUEbMhiYEL"
      }
    },
    {
      "cell_type": "code",
      "source": [
        "from collections import Counter\n",
        "from sklearn.datasets import make_classification\n",
        "from imblearn.under_sampling import RandomUnderSampler"
      ],
      "metadata": {
        "id": "LEdKIdOPiRCE"
      },
      "execution_count": null,
      "outputs": []
    },
    {
      "cell_type": "code",
      "source": [
        "X,y = make_classification(n_samples =2000, weights=[0.75],flip_y=0)\n",
        "print(Counter(y))"
      ],
      "metadata": {
        "id": "xoEQ4ovDiaXr"
      },
      "execution_count": null,
      "outputs": []
    },
    {
      "cell_type": "code",
      "source": [
        "under_sampling = RandomUnderSampler(sampling_strategy='majority')"
      ],
      "metadata": {
        "id": "6KRLmp7oijdU"
      },
      "execution_count": null,
      "outputs": []
    },
    {
      "cell_type": "code",
      "source": [
        "X_under, y_under  = under_sampling.fit_resample(X,y)"
      ],
      "metadata": {
        "id": "sxflrqfLivYE"
      },
      "execution_count": null,
      "outputs": []
    },
    {
      "cell_type": "code",
      "source": [
        "print(Counter(y_under))"
      ],
      "metadata": {
        "id": "cRGltfGli4gM"
      },
      "execution_count": null,
      "outputs": []
    },
    {
      "cell_type": "code",
      "source": [
        "from imblearn.over_sampling import SMOTE\n",
        "import matplotlib.pyplot as plt\n",
        "from numpy import where\n",
        "\n",
        "X,y = make_classification(n_samples=1000, n_classes= 2, n_redundant=0,\n",
        "                          n_clusters_per_class=1,weights=[0.99],flip_y=0, random_state=1)\n"
      ],
      "metadata": {
        "id": "Z8ckmK-BjF2H"
      },
      "execution_count": null,
      "outputs": []
    },
    {
      "cell_type": "code",
      "source": [
        "print(Counter(y))"
      ],
      "metadata": {
        "id": "B77ipKiYkk6i"
      },
      "execution_count": null,
      "outputs": []
    },
    {
      "cell_type": "code",
      "source": [
        "Oversample = SMOTE()\n",
        "X_over, y_over = Oversample.fit_resample(X,y)"
      ],
      "metadata": {
        "id": "pLmfDfuSjlyr"
      },
      "execution_count": null,
      "outputs": []
    },
    {
      "cell_type": "code",
      "source": [
        "print(Counter(y_over))"
      ],
      "metadata": {
        "id": "cy9SSBeBk6i8"
      },
      "execution_count": null,
      "outputs": []
    }
  ]
}